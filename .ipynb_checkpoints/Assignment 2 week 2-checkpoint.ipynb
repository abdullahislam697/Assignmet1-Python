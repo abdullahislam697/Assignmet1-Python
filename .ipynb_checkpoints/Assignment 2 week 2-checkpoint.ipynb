{
 "cells": [
  {
   "cell_type": "code",
   "execution_count": 2,
   "metadata": {},
   "outputs": [
    {
     "name": "stdout",
     "output_type": "stream",
     "text": [
      " Please Enter the radius of a circle: 5\n",
      " Area Of a Circle = 78.50\n",
      " Circumference Of a Circle = 31.40\n"
     ]
    }
   ],
   "source": [
    "PI = 3.14\n",
    "radius = float(input(' Please Enter the radius of a circle: '))\n",
    "area = PI * radius * radius\n",
    "circumference = 2 * PI * radius\n",
    "\n",
    "print(\" Area Of a Circle = %.2f\" %area)\n",
    "print(\" Circumference Of a Circle = %.2f\" %circumference)"
   ]
  },
  {
   "cell_type": "code",
   "execution_count": 1,
   "metadata": {},
   "outputs": [
    {
     "name": "stdout",
     "output_type": "stream",
     "text": [
      "cities ['Faislabad', 'Islamabad', 'Karachi', 'Lahore', 'Queta']\n",
      "result is [93.4, 95, 98.7, 87.4, 83.02]\n",
      "score is [45, 70, 54, 90, 42]\n"
     ]
    }
   ],
   "source": [
    "cities = ['Faislabad','Islamabad','Karachi','Lahore','Queta']\n",
    "result = [93.4, 95, 98.7, 87.4, 83.02]\n",
    "score = [45, 70, 54, 90, 42]\n",
    "print(f\"cities {cities}\\nresult is {result}\\nscore is {score}\")"
   ]
  }
 ],
 "metadata": {
  "kernelspec": {
   "display_name": "Python 3",
   "language": "python",
   "name": "python3"
  },
  "language_info": {
   "codemirror_mode": {
    "name": "ipython",
    "version": 3
   },
   "file_extension": ".py",
   "mimetype": "text/x-python",
   "name": "python",
   "nbconvert_exporter": "python",
   "pygments_lexer": "ipython3",
   "version": "3.7.4"
  }
 },
 "nbformat": 4,
 "nbformat_minor": 2
}
