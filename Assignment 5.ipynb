{
 "cells": [
  {
   "cell_type": "markdown",
   "metadata": {},
   "source": [
    "# Area of Circle"
   ]
  },
  {
   "cell_type": "code",
   "execution_count": 3,
   "metadata": {},
   "outputs": [
    {
     "name": "stdout",
     "output_type": "stream",
     "text": [
      "Area of the circle is 237.66659999999996\n",
      "Area of the circle is 265.76959999999997\n",
      "Area of the circle is 806.8572260000001\n"
     ]
    }
   ],
   "source": [
    "def calcArea(r,pi):\n",
    "    area = pi * r * r\n",
    "    return area\n",
    "print(\"Area of the circle is\",calcArea(8.7,pi=3.14))\n",
    "print(\"Area of the circle is\",calcArea(9.2,pi=3.14))\n",
    "print(\"Area of the circle is\",calcArea(16.03,pi=3.14))"
   ]
  },
  {
   "cell_type": "markdown",
   "metadata": {},
   "source": [
    "# Write function to check if a value exists in a list"
   ]
  },
  {
   "cell_type": "code",
   "execution_count": 5,
   "metadata": {},
   "outputs": [
    {
     "name": "stdout",
     "output_type": "stream",
     "text": [
      "Found python at index 0\n",
      "Found html at index 7\n",
      "Found c at index 4\n"
     ]
    }
   ],
   "source": [
    "def checkVal(lst,find):\n",
    "    j=0\n",
    "    for i in lst:\n",
    "        if i==find:\n",
    "            print(f\"Found {i} at index {j}\"  )\n",
    "        j+=1\n",
    "data = [\"python\", \"r\", \"java\", \"pascal\", \"c\", \"javascript\", \"assembley\", \"html\", \"c++\"]\n",
    "checkVal(data,'python')\n",
    "checkVal(data,'html')\n",
    "checkVal(data,'c')"
   ]
  },
  {
   "cell_type": "markdown",
   "metadata": {},
   "source": [
    "# Write a function to shift list item to right n times"
   ]
  },
  {
   "cell_type": "code",
   "execution_count": 7,
   "metadata": {},
   "outputs": [
    {
     "name": "stdout",
     "output_type": "stream",
     "text": [
      "['assembley', 'html', 'c++', 'python', 'r', 'java', 'pascal', 'c', 'javascript']\n",
      "['javascript', 'assembley', 'html', 'c++', 'python', 'r', 'java', 'pascal', 'c']\n"
     ]
    }
   ],
   "source": [
    "def shiftItems(ListName,n):\n",
    "    for i in range(n):\n",
    "        ListName.insert(0,ListName[-1])\n",
    "        ListName.pop()\n",
    "    return ListName\n",
    "data = [\"python\", \"r\", \"java\", \"pascal\", \"c\", \"javascript\", \"assembley\", \"html\", \"c++\"]\n",
    "n=3\n",
    "print(shiftItems(data,n))\n",
    "n=1\n",
    "print(shiftItems(data,n))"
   ]
  },
  {
   "cell_type": "markdown",
   "metadata": {},
   "source": [
    "# Use while loop to get data"
   ]
  },
  {
   "cell_type": "code",
   "execution_count": 10,
   "metadata": {},
   "outputs": [
    {
     "name": "stdout",
     "output_type": "stream",
     "text": [
      "Enter the radius1\n",
      "3.14\n",
      "Enter the radius\n"
     ]
    },
    {
     "ename": "ValueError",
     "evalue": "could not convert string to float: ",
     "output_type": "error",
     "traceback": [
      "\u001b[1;31m---------------------------------------------------------------------------\u001b[0m",
      "\u001b[1;31mValueError\u001b[0m                                Traceback (most recent call last)",
      "\u001b[1;32m<ipython-input-10-c78c4c3941a9>\u001b[0m in \u001b[0;36m<module>\u001b[1;34m\u001b[0m\n\u001b[0;32m      3\u001b[0m     \u001b[1;32mif\u001b[0m \u001b[0mradius\u001b[0m\u001b[1;33m==\u001b[0m\u001b[1;34m'quit'\u001b[0m\u001b[1;33m:\u001b[0m\u001b[1;33m\u001b[0m\u001b[1;33m\u001b[0m\u001b[0m\n\u001b[0;32m      4\u001b[0m         \u001b[1;32mbreak\u001b[0m\u001b[1;33m\u001b[0m\u001b[1;33m\u001b[0m\u001b[0m\n\u001b[1;32m----> 5\u001b[1;33m     \u001b[0mradius\u001b[0m\u001b[1;33m=\u001b[0m\u001b[0mfloat\u001b[0m\u001b[1;33m(\u001b[0m\u001b[0mradius\u001b[0m\u001b[1;33m)\u001b[0m\u001b[1;33m\u001b[0m\u001b[1;33m\u001b[0m\u001b[0m\n\u001b[0m\u001b[0;32m      6\u001b[0m     \u001b[0mprint\u001b[0m\u001b[1;33m(\u001b[0m\u001b[0mcalcArea\u001b[0m\u001b[1;33m(\u001b[0m\u001b[0mradius\u001b[0m\u001b[1;33m,\u001b[0m\u001b[0mpi\u001b[0m\u001b[1;33m=\u001b[0m\u001b[1;36m3.14\u001b[0m\u001b[1;33m)\u001b[0m\u001b[1;33m)\u001b[0m\u001b[1;33m\u001b[0m\u001b[1;33m\u001b[0m\u001b[0m\n",
      "\u001b[1;31mValueError\u001b[0m: could not convert string to float: "
     ]
    }
   ],
   "source": [
    "while True:\n",
    "    radius = input(\"Enter the radius\")\n",
    "    if radius=='quit':\n",
    "        break\n",
    "    radius=float(radius)\n",
    "    print(calcArea(radius,pi=3.14))"
   ]
  },
  {
   "cell_type": "code",
   "execution_count": null,
   "metadata": {},
   "outputs": [],
   "source": []
  }
 ],
 "metadata": {
  "kernelspec": {
   "display_name": "Python 3",
   "language": "python",
   "name": "python3"
  },
  "language_info": {
   "codemirror_mode": {
    "name": "ipython",
    "version": 3
   },
   "file_extension": ".py",
   "mimetype": "text/x-python",
   "name": "python",
   "nbconvert_exporter": "python",
   "pygments_lexer": "ipython3",
   "version": "3.7.4"
  }
 },
 "nbformat": 4,
 "nbformat_minor": 2
}
