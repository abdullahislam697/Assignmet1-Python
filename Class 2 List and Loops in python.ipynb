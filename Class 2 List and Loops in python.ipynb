{
 "cells": [
  {
   "cell_type": "code",
   "execution_count": 19,
   "metadata": {},
   "outputs": [
    {
     "name": "stdout",
     "output_type": "stream",
     "text": [
      "Afnan Nadeem 93\n",
      "Abdullah Islam 94\n",
      "Rayyan Alvi 95\n"
     ]
    }
   ],
   "source": [
    "name1 = \"Afnan Nadeem\"\n",
    "name2 = \"Abdullah Islam\"\n",
    "name3 = \"Rayyan Alvi\"\n",
    "array = [name1,name2,name3]\n",
    "marks1 = 93\n",
    "marks2 = 94\n",
    "marks3 = 95\n",
    "marks = [marks1,marks2,marks3]\n",
    "j=0\n",
    "for i in array:\n",
    "    print(f\"{i} {marks[j]}\")\n",
    "    j+=1"
   ]
  },
  {
   "cell_type": "code",
   "execution_count": null,
   "metadata": {},
   "outputs": [],
   "source": []
  }
 ],
 "metadata": {
  "kernelspec": {
   "display_name": "Python 3",
   "language": "python",
   "name": "python3"
  },
  "language_info": {
   "codemirror_mode": {
    "name": "ipython",
    "version": 3
   },
   "file_extension": ".py",
   "mimetype": "text/x-python",
   "name": "python",
   "nbconvert_exporter": "python",
   "pygments_lexer": "ipython3",
   "version": "3.7.4"
  }
 },
 "nbformat": 4,
 "nbformat_minor": 2
}
